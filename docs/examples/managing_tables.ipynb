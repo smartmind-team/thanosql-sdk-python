{
 "cells": [
  {
   "cell_type": "markdown",
   "metadata": {},
   "source": [
    "# Managing Tables\n",
    "\n",
    "This notebook shows how you can manage and utilize tables with the ThanoSQL library. We will cover how to create, update, delete, and list tables.\n",
    "First, initialize a ThanoSQL client with your API token and engine URL."
   ]
  },
  {
   "cell_type": "code",
   "execution_count": null,
   "metadata": {},
   "outputs": [],
   "source": [
    "from thanosql import ThanoSQL\n",
    "\n",
    "client = ThanoSQL(api_token=\"THANOSQL_API_VERSION\", engine_url=\"THANOSQL_ENGINE_URL\")"
   ]
  },
  {
   "cell_type": "markdown",
   "metadata": {},
   "source": [
    "## Listing Tables"
   ]
  },
  {
   "cell_type": "markdown",
   "metadata": {},
   "source": [
    "You can get the list of stored tables using the ThanoSQL library. The `list()` function can be used without any parameters or with optional parameters. To list only tables which name contains some keyword(s), use the `search` parameter. You can also set the `offset` and `limit` of the results."
   ]
  },
  {
   "cell_type": "code",
   "execution_count": null,
   "metadata": {},
   "outputs": [],
   "source": [
    "tables = client.table.list(search=\"search_keyword\", offset=1, limit=10)\n",
    "for table in tables:\n",
    "    print(table.name, table.table_schema)"
   ]
  },
  {
   "cell_type": "markdown",
   "metadata": {},
   "source": [
    "By default, `list()` only shows the name and schema of stored tables. In order to show more information, enable the `verbose` parameter, which is set to `False` by default."
   ]
  },
  {
   "cell_type": "code",
   "execution_count": null,
   "metadata": {},
   "outputs": [],
   "source": [
    "tables = client.table.list(verbose=True)\n",
    "for table in tables:\n",
    "    print(table.columns, table.constraints)"
   ]
  },
  {
   "cell_type": "markdown",
   "metadata": {},
   "source": [
    "You can also choose to only show a table with a certain name with `get()`. Table and schema combination is unique; this policy is enforced during table creation. If `schema` is not specified, the client will by default look at the `public` schema."
   ]
  },
  {
   "cell_type": "code",
   "execution_count": null,
   "metadata": {},
   "outputs": [],
   "source": [
    "table = client.table.get(name=\"table_name\")\n",
    "print(table.name)\n",
    "print(table.table_schema)\n",
    "print(table.columns)\n",
    "print(table.constraints)"
   ]
  },
  {
   "cell_type": "markdown",
   "metadata": {},
   "source": [
    "## Creating Tables"
   ]
  },
  {
   "cell_type": "markdown",
   "metadata": {},
   "source": [
    "You can create tables using the library. However, a few extra imports are needed to construct the table object. You need to first construct `Column` objects and `Constraint` objects, if applicable. This is the same process as creating a [table template](./managing_table_templates.ipynb)."
   ]
  },
  {
   "cell_type": "code",
   "execution_count": null,
   "metadata": {},
   "outputs": [],
   "source": [
    "from thanosql.resources import BaseColumn, Constraints, ForeignKey, PrimaryKey, TableObject, Unique\n",
    "\n",
    "\n",
    "# construct list of columns\n",
    "columns = [BaseColumn(type=\"integer\", name=\"column_1\"), BaseColumn(type=\"varchar\", name=\"column_2\"), BaseColumn(type=\"double precision\", name=\"column_3\"), BaseColumn(type=\"timestamp\", name=\"column_4\")]\n",
    "\n",
    "# construct unique columns (optional)\n",
    "unique = Unique(name=\"my_unique_1\", columns=[\"column_2\"])\n",
    "\n",
    "# construct primary key (optional but recommended)\n",
    "primary_key = PrimaryKey(name=\"my_pk_1\", columns=[\"column_1\"])\n",
    "\n",
    "# construct foreign keys (requires another existing table -- not table template)\n",
    "foreign_key = ForeignKey(name=\"my_fk_1\", reference_schema=\"public\", reference_column=\"another_column_1\", reference_table=\"another_table\", column=\"column_3\")\n",
    "\n",
    "# assemble everything into a table object\n",
    "table_object = TableObject(columns=columns, constraints=Constraints(unique=[unique], primary_key=primary_key, foreign_keys=[foreign_key]))\n",
    "\n",
    "# create the table template using ThanoSQL client, with default schema (public)\n",
    "client.table.create(name=\"my_table_1\", table=table_object)"
   ]
  },
  {
   "cell_type": "markdown",
   "metadata": {},
   "source": [
    "## Updating Tables"
   ]
  },
  {
   "cell_type": "markdown",
   "metadata": {},
   "source": [
    "You can update a table once you store it in the database. Similar to creating a table, you need to import a few objects to construct the `Table` (not `TableObject`) object. You can change the name and/or schema of the table by specifying a `name` and `schema` in the `Table`, respectively.\n",
    "\n",
    "For example, if we want to rename and update the table we just created by removing all constraints except for the primary key, we can do the following:"
   ]
  },
  {
   "cell_type": "code",
   "execution_count": null,
   "metadata": {},
   "outputs": [],
   "source": [
    "from thanosql.resources import Table\n",
    "\n",
    "table_object_updated = Table(name=\"my_table_1_updated\", columns=columns, constraints=Constraints(primary_key=primary_key))\n",
    "\n",
    "client.table.update(name=\"my_table_1\", table=table_object_updated)"
   ]
  },
  {
   "cell_type": "markdown",
   "metadata": {},
   "source": [
    "## Deleting Tables"
   ]
  },
  {
   "cell_type": "markdown",
   "metadata": {},
   "source": [
    "You can remove tables that you no longer use. You simply need to specify the name of the table."
   ]
  },
  {
   "cell_type": "code",
   "execution_count": null,
   "metadata": {},
   "outputs": [],
   "source": [
    "client.table.delete(name=\"my_table_1\")"
   ]
  }
 ],
 "metadata": {
  "language_info": {
   "name": "python"
  }
 },
 "nbformat": 4,
 "nbformat_minor": 2
}
