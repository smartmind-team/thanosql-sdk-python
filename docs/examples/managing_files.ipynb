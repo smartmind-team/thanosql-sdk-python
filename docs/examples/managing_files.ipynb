{
 "cells": [
  {
   "cell_type": "markdown",
   "metadata": {},
   "source": [
    "# Managing Files\n",
    "\n",
    "This notebook shows how you can manage files with the ThanoSQL library. We will cover how to upload files, get the list of files in a certain directory, and delete files.\n",
    "First, initialize a ThanoSQL client with your API token and engine URL."
   ]
  },
  {
   "cell_type": "code",
   "execution_count": null,
   "metadata": {},
   "outputs": [],
   "source": [
    "from thanosql import ThanoSQL\n",
    "\n",
    "client = ThanoSQL(api_token=\"THANOSQL_API_VERSION\", engine_url=\"THANOSQL_ENGINE_URL\")"
   ]
  },
  {
   "cell_type": "markdown",
   "metadata": {},
   "source": [
    "## Uploading Files"
   ]
  },
  {
   "cell_type": "markdown",
   "metadata": {},
   "source": [
    "You can upload files from your local computer to your ThanoSQL workspace. By default, files will be uploaded to the `drive` directory. You can use the `dir` parameter to specify another folder location relative to `drive/`. If the directory does not exist, it will be created automatically."
   ]
  },
  {
   "cell_type": "code",
   "execution_count": null,
   "metadata": {},
   "outputs": [],
   "source": [
    "file_path = \"path/to/file.jpeg\"\n",
    "\n",
    "# you can run both or comment one of the following\n",
    "res = client.file.upload(file_path)  # file will be uploaded to `drive/`\n",
    "assert res[\"data\"][\"file_path\"] == \"drive/file.jpeg\"\n",
    "\n",
    "res = client.file.upload(path=file_path, dir=\"target_dir\")  # file will be uploaded to `drive/target_dir/`\n",
    "assert res[\"data\"][\"file_path\"] == \"drive/target_dir/file.jpeg\""
   ]
  },
  {
   "cell_type": "markdown",
   "metadata": {},
   "source": [
    "You can also save the file path (relative to `drive/`) to a table by setting `db_commit`, `table_name`, and `column_name`. Note that both `table_name` and `column_name` must exist beforehand; the API will not create a new table or column and will promptly return an error otherwise. By default, `db_commit` will be set to `False`. If `db_commit` is `True`, two more values will be returned by the response data: `table_name` and `column_name`."
   ]
  },
  {
   "cell_type": "code",
   "execution_count": null,
   "metadata": {},
   "outputs": [],
   "source": [
    "res = client.file.upload(path=file_path, db_commit=True, table=\"table_name\", column=\"column_name\")\n",
    "assert res[\"data\"][\"table_name\"] == \"table_name\"\n",
    "assert res[\"data\"][\"column_name\"] == \"column_name\""
   ]
  },
  {
   "cell_type": "markdown",
   "metadata": {},
   "source": [
    "## Listing Files"
   ]
  },
  {
   "cell_type": "markdown",
   "metadata": {},
   "source": [
    "You can get the list of files in a directory under `drive/` using the `list()` function. For example, if you have this file structure:\n",
    "\n",
    "```bash\n",
    "drive/\n",
    "├── audio/\n",
    "├── image/\n",
    "├── others/\n",
    "├── video/\n",
    "└── my_file.md\n",
    "```"
   ]
  },
  {
   "cell_type": "code",
   "execution_count": null,
   "metadata": {},
   "outputs": [],
   "source": [
    "res = client.file.list(\"drive/*\")\n",
    "print(res[\"data\"][\"matched_pathnames\"])"
   ]
  },
  {
   "cell_type": "markdown",
   "metadata": {},
   "source": [
    "The output will look like:\n",
    "\n",
    "```bash\n",
    "[\"drive/audio\", \"drive/image\", \"drive/others\", \"drive/video\", \"drive/my_file.md\"]\n",
    "```\n",
    "\n",
    "Note that this function is not recursive; files inside subdirectories will not be listed. For ease of use, it is recommended to use regular expression (regex) pattern as the input."
   ]
  },
  {
   "cell_type": "markdown",
   "metadata": {},
   "source": [
    "## Deleting Files"
   ]
  },
  {
   "cell_type": "markdown",
   "metadata": {},
   "source": [
    "You can also delete files from your workspace using the client. If you previously saved the file information in a table, you can also delete the entry in a way similar to uploading it."
   ]
  },
  {
   "cell_type": "code",
   "execution_count": null,
   "metadata": {},
   "outputs": [],
   "source": [
    "# you can run both or comment one of the following\n",
    "client.file.delete(path=\"drive/target_dir/file.jpeg\")  # without db_commit\n",
    "client.file.delete(path=\"drive/file.jpeg\", db_commit=True, table=\"table_name\", column=\"column_name\")"
   ]
  }
 ],
 "metadata": {
  "language_info": {
   "name": "python"
  }
 },
 "nbformat": 4,
 "nbformat_minor": 2
}
