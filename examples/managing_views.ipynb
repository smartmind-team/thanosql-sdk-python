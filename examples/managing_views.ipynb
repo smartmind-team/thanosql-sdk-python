{
 "cells": [
  {
   "cell_type": "markdown",
   "metadata": {},
   "source": [
    "# Managing Views\n",
    "\n",
    "This notebook shows how you can manage views with the ThanoSQL library. We will cover how to create views, get the list of stored views, and delete views.\n",
    "First, install the requirements, set the required environment variables, and then initialize a ThanoSQL client."
   ]
  },
  {
   "cell_type": "code",
   "execution_count": null,
   "metadata": {},
   "outputs": [],
   "source": [
    "# comment when all requirements are installed\n",
    "%pip install -r requirements.txt "
   ]
  },
  {
   "cell_type": "code",
   "execution_count": null,
   "metadata": {},
   "outputs": [],
   "source": [
    "import os\n",
    "\n",
    "os.environ[\"API_TOKEN\"] = \"your_engine_api_token\"\n",
    "os.environ[\"ENGINE_URL\"] = \"your_engine_url\""
   ]
  },
  {
   "cell_type": "code",
   "execution_count": null,
   "metadata": {},
   "outputs": [],
   "source": [
    "from thanosql import ThanoSQL\n",
    "\n",
    "client = ThanoSQL()"
   ]
  },
  {
   "cell_type": "markdown",
   "metadata": {},
   "source": [
    "## Listing Views"
   ]
  },
  {
   "cell_type": "markdown",
   "metadata": {},
   "source": [
    "You can get the list of views in your workspace using the `list()` function. By default, views from all schemas will be shown, but you can change this behavior by specifying `schema`. You can also specify `offset` and `limit` (the default values are 0 and 100, respectively)."
   ]
  },
  {
   "cell_type": "code",
   "execution_count": null,
   "metadata": {},
   "outputs": [],
   "source": [
    "res = client.view.list()\n",
    "for view in res[\"views\"]:\n",
    "    print(view[\"name\"], view[\"schema\"])"
   ]
  },
  {
   "cell_type": "markdown",
   "metadata": {},
   "source": [
    "By default, the output will only include the name and schema of the view. In order to include more information, namely the list of columns the view has and its definition, you have to enable the `verbose` option."
   ]
  },
  {
   "cell_type": "code",
   "execution_count": null,
   "metadata": {},
   "outputs": [],
   "source": [
    "res = client.view.list(verbose=True)\n",
    "for view in res[\"views\"]:\n",
    "    print(view[\"columns\"], view[\"definition\"])"
   ]
  },
  {
   "cell_type": "markdown",
   "metadata": {},
   "source": [
    "You can also show the details (name, schema, columns, definition) of a specific view using the `get()` function. Aside from the view `name`, you can also specify the schema the view belongs to. While this is not required for views in the default (`public`) schema, this is necessary for views in other schemas."
   ]
  },
  {
   "cell_type": "code",
   "execution_count": null,
   "metadata": {},
   "outputs": [],
   "source": [
    "res = client.view.get(name=\"my_view_in_schema_1\", schema=\"schema_1\")\n",
    "print(res[\"view\"])"
   ]
  },
  {
   "cell_type": "markdown",
   "metadata": {},
   "source": [
    "## Creating Views"
   ]
  },
  {
   "cell_type": "markdown",
   "metadata": {},
   "source": [
    "Currently, there is no direct API for creating views. However, it is possible to do through raw query."
   ]
  },
  {
   "cell_type": "code",
   "execution_count": null,
   "metadata": {},
   "outputs": [],
   "source": [
    "query = \"CREATE VIEW my_view_1 AS SELECT column_2, column_3 FROM my_table_1\"\n",
    "\n",
    "client.query.execute(query=query)"
   ]
  },
  {
   "cell_type": "markdown",
   "metadata": {},
   "source": [
    "## Deleting Views"
   ]
  },
  {
   "cell_type": "markdown",
   "metadata": {},
   "source": [
    "You can also delete views from your workspace using the client."
   ]
  },
  {
   "cell_type": "code",
   "execution_count": null,
   "metadata": {},
   "outputs": [],
   "source": [
    "client.view.delete(name=\"my_view_1\")"
   ]
  }
 ],
 "metadata": {
  "language_info": {
   "name": "python"
  }
 },
 "nbformat": 4,
 "nbformat_minor": 2
}
